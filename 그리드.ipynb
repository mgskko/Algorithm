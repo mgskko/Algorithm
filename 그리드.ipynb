{
 "cells": [
  {
   "cell_type": "code",
   "execution_count": 1,
   "id": "95382ac9",
   "metadata": {},
   "outputs": [
    {
     "name": "stdout",
     "output_type": "stream",
     "text": [
      "15 5\n"
     ]
    },
    {
     "data": {
      "text/plain": [
       "<map at 0x17f20c72f10>"
      ]
     },
     "execution_count": 1,
     "metadata": {},
     "output_type": "execute_result"
    }
   ],
   "source": [
    "map(int, input().split(\" \"))"
   ]
  },
  {
   "cell_type": "code",
   "execution_count": 14,
   "id": "0a70dc23",
   "metadata": {},
   "outputs": [
    {
     "name": "stdout",
     "output_type": "stream",
     "text": [
      "6\n",
      "1 1 1 1 1 2 5 4\n",
      "5\n"
     ]
    }
   ],
   "source": [
    "n = int(input())\n",
    "x = list(map(int, input().split()))\n",
    "x.sort()\n",
    "\n",
    "result = 0\n",
    "count = 0\n",
    "\n",
    "for i in x:\n",
    "    count += 1\n",
    "    if count >= i:\n",
    "        result +=1\n",
    "        count = 0\n",
    "print(result)"
   ]
  },
  {
   "cell_type": "code",
   "execution_count": 23,
   "id": "c0d80f34",
   "metadata": {},
   "outputs": [
    {
     "name": "stdout",
     "output_type": "stream",
     "text": [
      "3 800\n",
      "500\n",
      "400\n",
      "5\n",
      "61\n"
     ]
    }
   ],
   "source": [
    "n , k = list(map(int, input().split()))\n",
    "coins = []\n",
    "for i in range(n):\n",
    "    coins.append(int(input()))\n",
    "coins.sort(reverse=True)\n",
    "answer = 0\n",
    "\n",
    "for coin in coins:\n",
    "    \n",
    "    answer += k // coin\n",
    "    k %= coin\n",
    "    \n",
    "print(answer)"
   ]
  },
  {
   "cell_type": "code",
   "execution_count": 25,
   "id": "79be5261",
   "metadata": {},
   "outputs": [
    {
     "name": "stdout",
     "output_type": "stream",
     "text": [
      "3 800\n",
      "500\n",
      "400\n",
      "5\n",
      "1100\n"
     ]
    }
   ],
   "source": [
    "# 1. 계산대 안에 있는 돈의 수와 거슬러 줄 돈을 구합니다. \n",
    "N, K = map(int, input().split()) # N : 화폐 종류수, K : 거슬러 줄 돈\n",
    "\n",
    "# 2. 계산대에 있는 화폐들을 리스트의 형태로 입력받습니다.\n",
    "coins = []\n",
    "for _ in range(N):\n",
    "    coins.append(int(input()))\n",
    "coins.sort(reverse=True)\n",
    "# coins = [50000, 10000, 5000, 1000, 500, 100, 50, 10, 5, 1]\n",
    "\n",
    "# 3. 만약 '계산대 안에 있는 화폐'보다 '거슬러 줄 돈'이 크다면\n",
    "# 돈을 거슬러 줍니다.\n",
    "answer = 0\n",
    "for coin in coins:\n",
    "    if K >= coin:\n",
    "        answer += K \n",
    "        K %= coin \n",
    "        if K <= 0: # 만약 K가 0이면 반복문을 탈출합니다.\n",
    "       \t\tbreak\n",
    "print(answer) # 거슬러 준 동전 + 화폐의 수"
   ]
  },
  {
   "cell_type": "code",
   "execution_count": 26,
   "id": "7e1d25db",
   "metadata": {},
   "outputs": [
    {
     "name": "stdout",
     "output_type": "stream",
     "text": [
      "3 800\n",
      "500\n",
      "400\n",
      "5\n",
      "160\n"
     ]
    }
   ],
   "source": [
    "N, K = map(int, input().split()) \n",
    "coin_lst = list()\n",
    "for i in range(N):\n",
    "    coin_lst.append(int(input()))\n",
    "\n",
    "count = 0\n",
    "for i in reversed(range(N)):\n",
    "    count += K//coin_lst[i] #카운트 값에 K를 동전으로 나눈 몫을 더해줌\n",
    "    K = K%coin_lst[i] # K는 동전으로 나눈 나머지로 계속 반복\n",
    "\n",
    "print(count)"
   ]
  },
  {
   "cell_type": "code",
   "execution_count": 27,
   "id": "23a1f38c",
   "metadata": {},
   "outputs": [
    {
     "name": "stdout",
     "output_type": "stream",
     "text": [
      "3 800\n",
      "500\n",
      "400\n",
      "100\n",
      "8\n"
     ]
    }
   ],
   "source": [
    "n, k = map(int, input().split())\n",
    "m = []\n",
    "num = 0\n",
    "for i in range(n):\n",
    "    m.append(int(input()))\n",
    "for i in range(n - 1, -1, -1):\n",
    "    if k == 0:\n",
    "        break\n",
    "    if m[i] > k:\n",
    "        continue\n",
    "    num += k // m[i]\n",
    "    k %= m[i]\n",
    "print(num)"
   ]
  },
  {
   "cell_type": "code",
   "execution_count": 28,
   "id": "fa55667c",
   "metadata": {},
   "outputs": [
    {
     "name": "stdout",
     "output_type": "stream",
     "text": [
      "6 3 2\n"
     ]
    }
   ],
   "source": [
    "n ,m , k = list(map(int, input().split()))\n",
    "team = 0\n",
    "while n >= 2 and m >= 1 and n+m-k >= "
   ]
  },
  {
   "cell_type": "markdown",
   "id": "97ca69c8",
   "metadata": {},
   "source": [
    "30의 배수 조건\n",
    "뒤에가 0 and 각 자리의 숫자의 합이 3의 배수"
   ]
  },
  {
   "cell_type": "code",
   "execution_count": 44,
   "id": "4cc5a3ce",
   "metadata": {},
   "outputs": [
    {
     "name": "stdout",
     "output_type": "stream",
     "text": [
      "102\n",
      "210\n"
     ]
    }
   ],
   "source": [
    "n = input()\n",
    "n = sorted(n, reverse=True)\n",
    "sum=0\n",
    "for i in n:\n",
    "    sum += int(i)\n",
    "if (sum %3) !=0 or '0' not in n:\n",
    "    print(-1)\n",
    "else:\n",
    "    print(\"\".join(n))"
   ]
  },
  {
   "cell_type": "code",
   "execution_count": null,
   "id": "ee58a355",
   "metadata": {},
   "outputs": [],
   "source": [
    " \n",
    "\n",
    "n = list(input())\n",
    "\n",
    "n.sort(reverse=True)\n",
    "\n",
    "\n",
    "sum =0\n",
    "for i in n:\n",
    "    sum += int(i)\n",
    "if sum%3!=0 or \"0\" not in n:\n",
    "    print(-1)\n",
    "else:\n",
    "    print(\"\".join(n))"
   ]
  }
 ],
 "metadata": {
  "kernelspec": {
   "display_name": "Python 3 (ipykernel)",
   "language": "python",
   "name": "python3"
  },
  "language_info": {
   "codemirror_mode": {
    "name": "ipython",
    "version": 3
   },
   "file_extension": ".py",
   "mimetype": "text/x-python",
   "name": "python",
   "nbconvert_exporter": "python",
   "pygments_lexer": "ipython3",
   "version": "3.9.12"
  }
 },
 "nbformat": 4,
 "nbformat_minor": 5
}
